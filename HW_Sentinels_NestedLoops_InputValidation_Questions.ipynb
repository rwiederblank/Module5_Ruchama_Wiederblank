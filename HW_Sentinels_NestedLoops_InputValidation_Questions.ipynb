{
  "cells": [
    {
      "cell_type": "markdown",
      "id": "90ac47ab",
      "metadata": {
        "id": "90ac47ab"
      },
      "source": [
        "# HW: Sentinels, Nested Loops, and Input Validation (≈70 minutes)\n",
        "\n",
        "**Instructions**\n",
        "- Work in order. Each task has a time estimate to help you pace yourself.\n",
        "- Do **not** use external libraries. Keep to standard Python.\n",
        "- Wherever you see `# TODO`, fill in the code.\n",
        "- Run the test cells (where provided) to sanity‑check your work.\n",
        "- If something is unclear, add a short comment explaining your reasoning.\n",
        "\n",
        "**Learning goals**\n",
        "- Use **sentinel-controlled while loops** to gather input until the user indicates “stop.”\n",
        "- Use **try/except** and loops to **validate inputs** and **reprompt**.\n",
        "- Use **nested loops** to build tables or to loop over characters in strings."
      ]
    },
    {
      "cell_type": "markdown",
      "id": "e1f28e9a",
      "metadata": {
        "id": "e1f28e9a"
      },
      "source": [
        "---\n",
        "## ⏱️ Estimated total time: ~70 minutes\n",
        "\n",
        "- **Task 1** – Sentinel stats (15 min)  \n",
        "- **Task 2** – Choice validator (8 min)  \n",
        "- **Task 3** – Multiplication grid (12 min)  \n",
        "- **Task 4** – Vowel counter across words (15 min)  \n",
        "- **Task 5** – Mini‑gradebook (20 min)"
      ]
    },
    {
      "cell_type": "markdown",
      "id": "983a92fb",
      "metadata": {
        "id": "983a92fb"
      },
      "source": [
        "---\n",
        "## Task 1 — Sentinel stats (≈15 min)\n",
        "\n",
        "Write a program that repeatedly asks the user for **integers between 0 and 100**.  \n",
        "Use a **sentinel**: the user types `done` (any case) to finish.\n",
        "\n",
        "**Requirements**\n",
        "- Ignore blank inputs (reprompt).\n",
        "- If the user types something that's not an integer in range, print a friendly message and reprompt.\n",
        "- When the user finishes, print: **count**, **sum**, **min**, **max**, and **mean** (to 2 decimals).  using f-string : {num:.2f}\n",
        "- If no valid numbers were entered, print `\"No data.\"`\n"
      ]
    },
    {
      "cell_type": "code",
      "execution_count": 1,
      "id": "bd66cac2",
      "metadata": {
        "id": "bd66cac2",
        "colab": {
          "base_uri": "https://localhost:8080/"
        },
        "outputId": "b9d99736-183f-4abe-80a1-b615191c86bc"
      },
      "outputs": [
        {
          "output_type": "stream",
          "name": "stdout",
          "text": [
            "Enter a number between 1 and 100 or \"done\" to halt: 45\n",
            "Enter a number between 1 and 100 or \"done\" to halt: 702\n",
            "The number must be between 0 and 100. Enter a new number or \"done\" to halt: \n",
            "Enter a number between 1 and 100 or \"done\" to halt: 23\n",
            "Enter a number between 1 and 100 or \"done\" to halt: 19\n",
            "Enter a number between 1 and 100 or \"done\" to halt: hello\n",
            "Invalid input. Please enter a number between 1 and 100 or \"done\" to halt: \n",
            "Enter a number between 1 and 100 or \"done\" to halt: 12\n",
            "Enter a number between 1 and 100 or \"done\" to halt: 99\n",
            "Enter a number between 1 and 100 or \"done\" to halt: 47\n",
            "Enter a number between 1 and 100 or \"done\" to halt: done\n",
            "The total count is 6, the total sum is 245, the maximum number was 99 and the minimum number was 12.\n",
            "The mean was 40.83\n"
          ]
        }
      ],
      "source": [
        "def sentinal_stats():\n",
        "  '''\n",
        "  takes in numbers until the user says done\n",
        "  prints the count, min, max, suma nd mean\n",
        "  '''\n",
        "  count = 0\n",
        "  sum = 0\n",
        "  min = 100\n",
        "  max = 0\n",
        "  while True:\n",
        "      num = input('Enter a number between 1 and 100 or \"done\" to halt: ')\n",
        "      if num.lower() == 'done':\n",
        "             break\n",
        "      else:\n",
        "          try:\n",
        "            num = int(num)\n",
        "          except ValueError:\n",
        "             print('Invalid input. Please enter a number between 1 and 100 or \"done\" to halt: ')\n",
        "             continue\n",
        "          if num < 0 or num > 100:\n",
        "             print('The number must be between 0 and 100. Enter a new number or \"done\" to halt: ')\n",
        "             continue\n",
        "          count+=1\n",
        "          sum += num\n",
        "          if num < min or count == 0: # checks if the number is the new minimum\n",
        "             min = num\n",
        "          if num > max or count == 0:  # checks if the number is the new maximum\n",
        "             max = num\n",
        "  if count > 0:\n",
        "    print(f'The total count is {count}, the total sum is {sum}, the maximum number was {max} and the minimum number was {min}.')\n",
        "    print(f'The mean was {sum/count:.2f}')\n",
        "  else:\n",
        "      print('No data.')\n",
        "\n",
        "\n",
        "sentinal_stats()\n",
        "\n",
        ""
      ]
    },
    {
      "cell_type": "markdown",
      "id": "03a0f72b",
      "metadata": {
        "id": "03a0f72b"
      },
      "source": [
        "---\n",
        "## Task 2 — Choice validator (≈8 min)\n",
        "\n",
        "Write a function `get_choice(prompt, options)` that:\n",
        "- Prints the prompt and the list of options.\n",
        "- Repeatedly asks for input until the user types **exactly** one of the options (case‑insensitive).\n",
        "- Returns the **originally cased** option from the `options` list.\n",
        "\n",
        "**Example**\n",
        "```text\n",
        "Your choice (red/blue/green): Blue\n",
        "# returns \"blue\" if options = [\"red\", \"blue\", \"green\"]\n",
        "```\n",
        "\n",
        "> Hints: Build `options_lower` once, then search it each time to find the index."
      ]
    },
    {
      "cell_type": "code",
      "execution_count": 4,
      "id": "ac138b14",
      "metadata": {
        "id": "ac138b14",
        "colab": {
          "base_uri": "https://localhost:8080/"
        },
        "outputId": "6eba2929-0aff-4002-90c8-964321f80219"
      },
      "outputs": [
        {
          "output_type": "stream",
          "name": "stdout",
          "text": [
            "Your choice (red/yellow/blue): green \n",
            "Your choice (red/yellow/blue): Orange\n",
            "Your choice (red/yellow/blue): YELLOW\n",
            "You picked: YELLOW\n"
          ]
        }
      ],
      "source": [
        "def options_lower(list):\n",
        "  '''returns a list with all the items in lowecase'''\n",
        "  new_list = []\n",
        "  for item in list:\n",
        "      new_list.append(item.lower())\n",
        "  return new_list\n",
        "\n",
        "def get_choice(prompt, options):\n",
        "  '''runs until the user inputs one of the options in the prompt'''\n",
        "  while True:\n",
        "      choice = input(prompt)\n",
        "      if choice.lower() in options_lower(options):\n",
        "          print(f'You picked: {choice}')\n",
        "          break\n",
        "\n",
        "my_list = [\"Red\", \"Yellow\", \"Blue\"]\n",
        "my_prompt = 'Your choice (red/yellow/blue): '\n",
        "get_choice(my_prompt, my_list)"
      ]
    },
    {
      "cell_type": "code",
      "execution_count": null,
      "id": "c11c898d",
      "metadata": {
        "id": "c11c898d"
      },
      "outputs": [],
      "source": [
        "# (Quick check) Manually try:\n",
        "# color = get_choice(\"Pick a color\", [\"red\",\"blue\",\"green\"])\n",
        "# print(\"You picked:\", color)"
      ]
    },
    {
      "cell_type": "markdown",
      "id": "003c976f",
      "metadata": {
        "id": "003c976f"
      },
      "source": [
        "---\n",
        "## Task 3 — Multiplication grid (≈12 min)\n",
        "\n",
        "Prompt the user for two **integers** `rows` and `cols` in the range **1..10**.  \n",
        "Validate both with try/except and reprompt until valid.\n",
        "\n",
        "Then print a **rows × cols** multiplication table, where each cell shows `r*c` (1‑indexed).  \n",
        "Format with spaces so columns line up **at least** for small sizes.\n",
        "\n",
        "**Example (rows=3, cols=4)**\n",
        "```\n",
        "    1  2  3  4\n",
        " 1: 1  2  3  4\n",
        " 2: 2  4  6  8\n",
        " 3: 3  6  9 12\n",
        "```"
      ]
    },
    {
      "cell_type": "code",
      "execution_count": 32,
      "id": "db519675",
      "metadata": {
        "id": "db519675",
        "colab": {
          "base_uri": "https://localhost:8080/"
        },
        "outputId": "7ca221a3-cc5c-4e8a-9edf-cd65b750ba24"
      },
      "outputs": [
        {
          "output_type": "stream",
          "name": "stdout",
          "text": [
            "Enter a number between 1 and 10: 3\n",
            "Enter a number between 1 and 10: 4\n",
            "     1  2  3  4 \n",
            "1:   1  2  3  4 \n",
            "2:   2  4  6  8 \n",
            "3:   3  6  9 12 \n"
          ]
        }
      ],
      "source": [
        "def multiplication_grid():\n",
        "    ''' prints a multiplication grid between 2 numbers entered by user '''\n",
        "    try:\n",
        "        num1 = int(input('Enter a number between 1 and 10: '))\n",
        "        while num1 > 10 or num1 < 1:\n",
        "            print('Number must be between 1 and 10.')\n",
        "            num1 = int(input('Enter a number between 1 and 10: '))\n",
        "        num2 = int(input('Enter a number between 1 and 10: '))\n",
        "        while num2 > 10 or num1 < 2:\n",
        "            print('Number must be between 1 and 10.')\n",
        "            num2 = int(input('Enter a number between 1 and 10: '))\n",
        "    except ValueError:\n",
        "        print('Invalid input. Please enter a number between 1 and 10. ')\n",
        "    # prints the heading\n",
        "    print(\"    \", end=\"\") # creates a gap so the numbers line up\n",
        "    for i in range(num2+1): # prints the heading\n",
        "      if i > 0:\n",
        "        print(f'{i:2}', end = \" \")\n",
        "    print()\n",
        "    # prints the multiplication tables\n",
        "    for r in range(1, num1+1):\n",
        "        print(f'{r}: ', end = \" \") # prints the side column\n",
        "        for c in range(1, num2+1):\n",
        "            print(f'{r*c:2}', end = \" \")\n",
        "        print()\n",
        "\n",
        "\n",
        "multiplication_grid()"
      ]
    },
    {
      "cell_type": "markdown",
      "id": "416bab28",
      "metadata": {
        "id": "416bab28"
      },
      "source": [
        "---\n",
        "## Task 4 — Vowel counter across words (≈15 min)\n",
        "\n",
        "Use a **sentinel** loop to read words until the user types `done`.  \n",
        "For each word, use a **nested loop** (loop over characters) to count **vowels** `a e i o u` (case‑insensitive).\n",
        "\n",
        "**Output**\n",
        "- After each word, print `\"{word}\" has {k} vowel(s)`.\n",
        "- At the end, print the **total number of vowels** across all words.\n",
        "\n",
        "> Hints: A string is looped over the way a list is.  Use `for ch in word:` to examine each character in the string; compare `ch.lower()` against a set like `{'a','e','i','o','u'}`."
      ]
    },
    {
      "cell_type": "code",
      "execution_count": 11,
      "id": "c7a96d30",
      "metadata": {
        "id": "c7a96d30",
        "colab": {
          "base_uri": "https://localhost:8080/"
        },
        "outputId": "f04371da-ec8a-4cda-d1d3-7fcc3135e8c7"
      },
      "outputs": [
        {
          "output_type": "stream",
          "name": "stdout",
          "text": [
            "Enter a word (\"stop\"  to stop): hellow\n",
            "hellow has 2 vowel(s)\n",
            "Enter a word (\"stop\"  to stop): mom\n",
            "mom has 1 vowel(s)\n",
            "Enter a word (\"stop\"  to stop): dad\n",
            "dad has 1 vowel(s)\n",
            "Enter a word (\"stop\"  to stop): awesome\n",
            "awesome has 4 vowel(s)\n",
            "Enter a word (\"stop\"  to stop): stop\n",
            "Total number of vowels: 8 vowels\n"
          ]
        }
      ],
      "source": [
        "def vowel_counter():\n",
        "  ''' prints the number of vowels in each word until the user enters done'''\n",
        "    vowels_total = 0\n",
        "    vowel_list = [\"a\", \"e\", \"i\", \"o\", \"u\"]\n",
        "    while True:\n",
        "        vowels_in_word = 0\n",
        "        word = input('Enter a word (\"stop\"  to stop): ')\n",
        "        if word.lower() == \"stop\":\n",
        "            break\n",
        "        for char in word.lower():\n",
        "            if char in vowel_list:\n",
        "                vowels_in_word += 1\n",
        "        print(f\"{word} has {vowels_in_word} vowel(s)\")\n",
        "        vowels_total += vowels_in_word\n",
        "    print(f'Total number of vowels: {vowels_total} vowels')\n",
        "\n",
        "vowel_counter()"
      ]
    },
    {
      "cell_type": "markdown",
      "id": "98dd5563",
      "metadata": {
        "id": "98dd5563"
      },
      "source": [
        "---\n",
        "## Task 5 — Mini‑gradebook (≈20 min)\n",
        "\n",
        "Build a tiny gradebook using **both** a sentinel loop and a nested loop.\n",
        "\n",
        "**Requirements**\n",
        "1. Repeatedly ask for a **student name** until the user types `done` (sentinel).  \n",
        "   - Ignore blank names.\n",
        "2. For each student, read exactly **3 scores** (0..100, integers).  \n",
        "   - Use input validation with try/except; reprompt on bad input.\n",
        "3. Store each student's average in a dictionary `grades[name] = avg`.\n",
        "4. After input ends, print a **simple report** sorted by name:\n",
        "   ```\n",
        "   Alice : 88.00\n",
        "   Bob   : 92.33\n",
        "   ```\n",
        "\n",
        "**Stretch (optional)**  \n",
        "- Also print the **class average**."
      ]
    },
    {
      "cell_type": "code",
      "execution_count": 19,
      "id": "b4c87c4c",
      "metadata": {
        "id": "b4c87c4c",
        "colab": {
          "base_uri": "https://localhost:8080/"
        },
        "outputId": "46bb4d68-eba0-415e-f0d5-df2502e5a993"
      },
      "outputs": [
        {
          "output_type": "stream",
          "name": "stdout",
          "text": [
            "Enter name (\"done\" to end): Sara\n",
            "Enter grade: 34\n",
            "Enter grade: 45\n",
            "Enter grade: 56\n",
            "The average for Sara is 45.00.\n",
            "Enter name (\"done\" to end): Rivka\n",
            "Enter grade: 5667\n",
            "Please enter a grade between 0 and 100\n",
            "Enter grade: 78\n",
            "Enter grade: 56\n",
            "Enter grade: 67\n",
            "The average for Rivka is 67.00.\n",
            "Enter name (\"done\" to end): \n",
            "Enter name (\"done\" to end): Rochel\n",
            "Enter grade: 99\n",
            "Enter grade: 98\n",
            "Enter grade: 97\n",
            "The average for Rochel is 98.00.\n",
            "Enter name (\"done\" to end): done\n",
            "Sara : 45.0\n",
            "Rivka : 67.0\n",
            "Rochel : 98.0\n"
          ]
        }
      ],
      "source": [
        "def gradebook():\n",
        "    '''\n",
        "    takes in a students name and 3 grades for each name\n",
        "    finds the students average grade\n",
        "    prints it\n",
        "    '''\n",
        "    names = []\n",
        "    student_average = []\n",
        "    while True:\n",
        "        name = input('Enter name (\"done\" to end): ')\n",
        "        if name.lower() == \"done\":\n",
        "            break\n",
        "        if name == \"\":\n",
        "            continue\n",
        "        grade_total = 0\n",
        "        for i in range(3):\n",
        "            try:\n",
        "                grade = int(input('Enter grade: '))\n",
        "                while grade < 0 or grade > 100:\n",
        "                    print('Please enter a grade between 0 and 100')\n",
        "                    grade = int(input('Enter grade: '))\n",
        "            except ValueError:\n",
        "                print('Grade must be an integer between 0 and 100')\n",
        "                continue\n",
        "            grade_total += grade\n",
        "        avg = grade_total/3 # calculates the average\n",
        "        names.append(name)\n",
        "        student_average.append(avg)\n",
        "        print(f'The average for {name} is {avg:.2f}.') # prints average\n",
        "    # prints the name and average of each student\n",
        "    for i in range(len(names)):\n",
        "      print(f'{names[i]} : {student_average[i]}')\n",
        "\n",
        "\n",
        "\n",
        "gradebook()"
      ]
    },
    {
      "cell_type": "markdown",
      "id": "0d1a8cf7",
      "metadata": {
        "id": "0d1a8cf7"
      },
      "source": [
        "---\n",
        "### ✅ Submission checklist\n",
        "\n",
        "- [ ] Notebook runs top‑to‑bottom without errors\n",
        "- [ ] Brief comments added where logic might be unclear\n",
        "- [ ] Push this notebook to your GitHub as part of your assignment submission, submit link to Canvas"
      ]
    }
  ],
  "metadata": {
    "colab": {
      "provenance": []
    },
    "language_info": {
      "name": "python"
    },
    "kernelspec": {
      "name": "python3",
      "display_name": "Python 3"
    }
  },
  "nbformat": 4,
  "nbformat_minor": 5
}